{
 "cells": [
  {
   "cell_type": "code",
   "execution_count": 3,
   "id": "51b5b298-0e24-43d0-bfdf-641ecfde6d99",
   "metadata": {},
   "outputs": [],
   "source": [
    "import pandas as pd\n",
    "import numpy as np\n",
    "import matplotlib.pyplot as plt\n"
   ]
  },
  {
   "cell_type": "code",
   "execution_count": 101,
   "id": "80f72bcf-e722-4781-aa76-c44ad9d85fec",
   "metadata": {},
   "outputs": [
    {
     "name": "stdout",
     "output_type": "stream",
     "text": [
      "<class 'pandas.core.frame.DataFrame'>\n",
      "RangeIndex: 223 entries, 0 to 222\n",
      "Data columns (total 30 columns):\n",
      " #   Column                                           Non-Null Count  Dtype         \n",
      "---  ------                                           --------------  -----         \n",
      " 0   System                                           223 non-null    string        \n",
      " 1   Domain                                           223 non-null    object        \n",
      " 2   Task                                             223 non-null    object        \n",
      " 3   Authors                                          132 non-null    object        \n",
      " 4   Model accessibility                              184 non-null    category      \n",
      " 5   Link                                             220 non-null    object        \n",
      " 6   Citations                                        223 non-null    uint32        \n",
      " 7   Reference                                        185 non-null    object        \n",
      " 8   Publication date                                 223 non-null    datetime64[ns]\n",
      " 9   Organization                                     223 non-null    category      \n",
      " 10  Parameters                                       159 non-null    float64       \n",
      " 11  Parameters notes                                 137 non-null    object        \n",
      " 12  Training compute (FLOP)                          129 non-null    float64       \n",
      " 13  Training compute notes                           144 non-null    object        \n",
      " 14  Training dataset                                 114 non-null    object        \n",
      " 15  Training dataset notes                           119 non-null    object        \n",
      " 16  Training dataset size (datapoints)               120 non-null    float64       \n",
      " 17  Dataset size notes                               116 non-null    object        \n",
      " 18  Training time (hours)                            48 non-null     float64       \n",
      " 19  Training hardware                                95 non-null     object        \n",
      " 20  Abstract                                         180 non-null    object        \n",
      " 21  Country (from Organization)                      223 non-null    object        \n",
      " 22  Hardware quantity                                55 non-null     float64       \n",
      " 23  Training code accessibility                      154 non-null    object        \n",
      " 24  Dataset accessibility                            35 non-null     object        \n",
      " 25  Accessibility notes                              112 non-null    object        \n",
      " 26  Organization categorization (from Organization)  223 non-null    object        \n",
      " 27  Training power (Watts)                           130 non-null    float64       \n",
      " 28  Training energy (kWh)                            34 non-null     float64       \n",
      " 29  Carbon Emissions from training (lb)              34 non-null     float64       \n",
      "dtypes: category(2), datetime64[ns](1), float64(8), object(17), string(1), uint32(1)\n",
      "memory usage: 51.5+ KB\n"
     ]
    }
   ],
   "source": [
    "def clean_models(df):\n",
    "    df = df.rename({'Training power (Watts) ':'Training power (Watts)', 'Training energy (kWh) ':'Training energy (kWh)'}, axis=1)\n",
    "    df = df.drop(['Base model', 'Finetune compute (FLOP)', 'Finetune compute notes'], axis=1)\n",
    "    df['Domain'] = df['Domain'].astype(\"string\").str.split(\",\").map(lambda x: sorted(x)).map(lambda x: ','.join(x))\n",
    "    df['System'] = df['System'].astype(\"string\")\n",
    "    df['Task'] = df['Task'].astype(\"string\").str.split(',').map(lambda x: sorted(x)).map(lambda x: ','.join(x))\n",
    "    df['Model accessibility'] = df['Model accessibility'].astype('category')\n",
    "    df['Citations'] = df['Citations'].fillna(0).astype('uint32')\n",
    "    df['Publication date'] = pd.to_datetime(df['Publication date'])\n",
    "    df['Organization'] = df['Organization'].astype('category')\n",
    "\n",
    "    df['Organization categorization (from Organization)'] = df['Organization categorization (from Organization)']\\\n",
    "                                                              .astype('string')\\\n",
    "                                                              .str.strip()\\\n",
    "                                                              .str.split(',')\\\n",
    "                                                              .apply(lambda x: ','.join(sorted(list(set(x)))))\n",
    "    return df\n",
    "\n",
    "def clean_bloom(df):\n",
    "    df = df.drop(['cloud_provider', 'cloud_region'], axis=1)\n",
    "    df = df[~df.drop(['timestamp', 'project_name', 'run_id'], axis=1).isna().any(axis=1)]\n",
    "    df.loc[312, 'timestamp'] = '2022-05-18T12:04:08'\n",
    "    df = df.drop([767])\n",
    "    df['timestamp'] = pd.to_datetime(df['timestamp'])\n",
    "    return df\n",
    "\n",
    "models_df = pd.read_csv(\"large_scale_ai_models_added_cols.csv\")\n",
    "bloom_df = pd.read_csv(\"bloom_emissions.csv\")\n",
    "models_df = clean_models(models_df)\n",
    "bloom_df = clean_bloom(bloom_df)\n",
    "models_df.info()"
   ]
  },
  {
   "cell_type": "code",
   "execution_count": 103,
   "id": "5903b7a2-f73a-47ef-baa1-c562fffb2cb0",
   "metadata": {},
   "outputs": [],
   "source": [
    "# save the clean dataframes\n",
    "models_df.to_csv('models_clean.csv', index=False)\n",
    "bloom_df.to_csv('bloom_clean.csv', index=False)"
   ]
  },
  {
   "cell_type": "code",
   "execution_count": 99,
   "id": "c0065189-d16b-4acf-8701-0e515a175cb8",
   "metadata": {},
   "outputs": [
    {
     "data": {
      "text/plain": [
       "0      Industry\n",
       "1      Industry\n",
       "2      Industry\n",
       "3      Industry\n",
       "4      Industry\n",
       "         ...   \n",
       "218    Industry\n",
       "219    Industry\n",
       "220    Industry\n",
       "221    Industry\n",
       "222    Industry\n",
       "Name: Organization categorization (from Organization), Length: 223, dtype: object"
      ]
     },
     "execution_count": 99,
     "metadata": {},
     "output_type": "execute_result"
    }
   ],
   "source": [
    "models_df['Organization categorization (from Organization)']\\\n",
    "         .astype('string')\\\n",
    "         .str.strip()\\\n",
    "         .str.split(',')\\\n",
    "         .apply(lambda x: ','.join(sorted(list(set(x)))))"
   ]
  },
  {
   "cell_type": "code",
   "execution_count": 45,
   "id": "0ff8fcf9-46da-4a24-acff-43d215e3c81c",
   "metadata": {},
   "outputs": [
    {
     "ename": "KeyError",
     "evalue": "\"None of [Index(['System', 'Domain', 'Task', 'Parameters', 'Training compute (FLOP)',\\n       'Training dataset size (datapoints)', 'Training time (hours)',\\n       'Training hardware', 'Hardware quantity', 'Training power (Watts)',\\n       'Training energy (kWh)', 'Carbon Emissions from training (lb)'],\\n      dtype='object')] are in the [index]\"",
     "output_type": "error",
     "traceback": [
      "\u001b[0;31m---------------------------------------------------------------------------\u001b[0m",
      "\u001b[0;31mKeyError\u001b[0m                                  Traceback (most recent call last)",
      "Cell \u001b[0;32mIn[45], line 18\u001b[0m\n\u001b[1;32m      1\u001b[0m \u001b[38;5;66;03m#good columns for statistical analysis in models\u001b[39;00m\n\u001b[1;32m      3\u001b[0m models_cols \u001b[38;5;241m=\u001b[39m [\n\u001b[1;32m      4\u001b[0m     \u001b[38;5;124m'\u001b[39m\u001b[38;5;124mSystem\u001b[39m\u001b[38;5;124m'\u001b[39m,\n\u001b[1;32m      5\u001b[0m     \u001b[38;5;124m'\u001b[39m\u001b[38;5;124mDomain\u001b[39m\u001b[38;5;124m'\u001b[39m,\n\u001b[0;32m   (...)\u001b[0m\n\u001b[1;32m     15\u001b[0m     \u001b[38;5;124m'\u001b[39m\u001b[38;5;124mCarbon Emissions from training (lb)\u001b[39m\u001b[38;5;124m'\u001b[39m\n\u001b[1;32m     16\u001b[0m ]\n\u001b[0;32m---> 18\u001b[0m models_good_df \u001b[38;5;241m=\u001b[39m models_df[models_cols]\n\u001b[1;32m     19\u001b[0m models_good_df\u001b[38;5;241m.\u001b[39mto_csv(\u001b[38;5;124m'\u001b[39m\u001b[38;5;124mmodels_clean_analysis.csv\u001b[39m\u001b[38;5;124m'\u001b[39m, index\u001b[38;5;241m=\u001b[39m\u001b[38;5;28;01mFalse\u001b[39;00m)\n",
      "File \u001b[0;32m~/anaconda3/lib/python3.12/site-packages/pandas/core/series.py:1153\u001b[0m, in \u001b[0;36mSeries.__getitem__\u001b[0;34m(self, key)\u001b[0m\n\u001b[1;32m   1150\u001b[0m     key \u001b[38;5;241m=\u001b[39m np\u001b[38;5;241m.\u001b[39masarray(key, dtype\u001b[38;5;241m=\u001b[39m\u001b[38;5;28mbool\u001b[39m)\n\u001b[1;32m   1151\u001b[0m     \u001b[38;5;28;01mreturn\u001b[39;00m \u001b[38;5;28mself\u001b[39m\u001b[38;5;241m.\u001b[39m_get_rows_with_mask(key)\n\u001b[0;32m-> 1153\u001b[0m \u001b[38;5;28;01mreturn\u001b[39;00m \u001b[38;5;28mself\u001b[39m\u001b[38;5;241m.\u001b[39m_get_with(key)\n",
      "File \u001b[0;32m~/anaconda3/lib/python3.12/site-packages/pandas/core/series.py:1194\u001b[0m, in \u001b[0;36mSeries._get_with\u001b[0;34m(self, key)\u001b[0m\n\u001b[1;32m   1191\u001b[0m         \u001b[38;5;28;01mreturn\u001b[39;00m \u001b[38;5;28mself\u001b[39m\u001b[38;5;241m.\u001b[39miloc[key]\n\u001b[1;32m   1193\u001b[0m \u001b[38;5;66;03m# handle the dup indexing case GH#4246\u001b[39;00m\n\u001b[0;32m-> 1194\u001b[0m \u001b[38;5;28;01mreturn\u001b[39;00m \u001b[38;5;28mself\u001b[39m\u001b[38;5;241m.\u001b[39mloc[key]\n",
      "File \u001b[0;32m~/anaconda3/lib/python3.12/site-packages/pandas/core/indexing.py:1191\u001b[0m, in \u001b[0;36m_LocationIndexer.__getitem__\u001b[0;34m(self, key)\u001b[0m\n\u001b[1;32m   1189\u001b[0m maybe_callable \u001b[38;5;241m=\u001b[39m com\u001b[38;5;241m.\u001b[39mapply_if_callable(key, \u001b[38;5;28mself\u001b[39m\u001b[38;5;241m.\u001b[39mobj)\n\u001b[1;32m   1190\u001b[0m maybe_callable \u001b[38;5;241m=\u001b[39m \u001b[38;5;28mself\u001b[39m\u001b[38;5;241m.\u001b[39m_check_deprecated_callable_usage(key, maybe_callable)\n\u001b[0;32m-> 1191\u001b[0m \u001b[38;5;28;01mreturn\u001b[39;00m \u001b[38;5;28mself\u001b[39m\u001b[38;5;241m.\u001b[39m_getitem_axis(maybe_callable, axis\u001b[38;5;241m=\u001b[39maxis)\n",
      "File \u001b[0;32m~/anaconda3/lib/python3.12/site-packages/pandas/core/indexing.py:1420\u001b[0m, in \u001b[0;36m_LocIndexer._getitem_axis\u001b[0;34m(self, key, axis)\u001b[0m\n\u001b[1;32m   1417\u001b[0m     \u001b[38;5;28;01mif\u001b[39;00m \u001b[38;5;28mhasattr\u001b[39m(key, \u001b[38;5;124m\"\u001b[39m\u001b[38;5;124mndim\u001b[39m\u001b[38;5;124m\"\u001b[39m) \u001b[38;5;129;01mand\u001b[39;00m key\u001b[38;5;241m.\u001b[39mndim \u001b[38;5;241m>\u001b[39m \u001b[38;5;241m1\u001b[39m:\n\u001b[1;32m   1418\u001b[0m         \u001b[38;5;28;01mraise\u001b[39;00m \u001b[38;5;167;01mValueError\u001b[39;00m(\u001b[38;5;124m\"\u001b[39m\u001b[38;5;124mCannot index with multidimensional key\u001b[39m\u001b[38;5;124m\"\u001b[39m)\n\u001b[0;32m-> 1420\u001b[0m     \u001b[38;5;28;01mreturn\u001b[39;00m \u001b[38;5;28mself\u001b[39m\u001b[38;5;241m.\u001b[39m_getitem_iterable(key, axis\u001b[38;5;241m=\u001b[39maxis)\n\u001b[1;32m   1422\u001b[0m \u001b[38;5;66;03m# nested tuple slicing\u001b[39;00m\n\u001b[1;32m   1423\u001b[0m \u001b[38;5;28;01mif\u001b[39;00m is_nested_tuple(key, labels):\n",
      "File \u001b[0;32m~/anaconda3/lib/python3.12/site-packages/pandas/core/indexing.py:1360\u001b[0m, in \u001b[0;36m_LocIndexer._getitem_iterable\u001b[0;34m(self, key, axis)\u001b[0m\n\u001b[1;32m   1357\u001b[0m \u001b[38;5;28mself\u001b[39m\u001b[38;5;241m.\u001b[39m_validate_key(key, axis)\n\u001b[1;32m   1359\u001b[0m \u001b[38;5;66;03m# A collection of keys\u001b[39;00m\n\u001b[0;32m-> 1360\u001b[0m keyarr, indexer \u001b[38;5;241m=\u001b[39m \u001b[38;5;28mself\u001b[39m\u001b[38;5;241m.\u001b[39m_get_listlike_indexer(key, axis)\n\u001b[1;32m   1361\u001b[0m \u001b[38;5;28;01mreturn\u001b[39;00m \u001b[38;5;28mself\u001b[39m\u001b[38;5;241m.\u001b[39mobj\u001b[38;5;241m.\u001b[39m_reindex_with_indexers(\n\u001b[1;32m   1362\u001b[0m     {axis: [keyarr, indexer]}, copy\u001b[38;5;241m=\u001b[39m\u001b[38;5;28;01mTrue\u001b[39;00m, allow_dups\u001b[38;5;241m=\u001b[39m\u001b[38;5;28;01mTrue\u001b[39;00m\n\u001b[1;32m   1363\u001b[0m )\n",
      "File \u001b[0;32m~/anaconda3/lib/python3.12/site-packages/pandas/core/indexing.py:1558\u001b[0m, in \u001b[0;36m_LocIndexer._get_listlike_indexer\u001b[0;34m(self, key, axis)\u001b[0m\n\u001b[1;32m   1555\u001b[0m ax \u001b[38;5;241m=\u001b[39m \u001b[38;5;28mself\u001b[39m\u001b[38;5;241m.\u001b[39mobj\u001b[38;5;241m.\u001b[39m_get_axis(axis)\n\u001b[1;32m   1556\u001b[0m axis_name \u001b[38;5;241m=\u001b[39m \u001b[38;5;28mself\u001b[39m\u001b[38;5;241m.\u001b[39mobj\u001b[38;5;241m.\u001b[39m_get_axis_name(axis)\n\u001b[0;32m-> 1558\u001b[0m keyarr, indexer \u001b[38;5;241m=\u001b[39m ax\u001b[38;5;241m.\u001b[39m_get_indexer_strict(key, axis_name)\n\u001b[1;32m   1560\u001b[0m \u001b[38;5;28;01mreturn\u001b[39;00m keyarr, indexer\n",
      "File \u001b[0;32m~/anaconda3/lib/python3.12/site-packages/pandas/core/indexes/base.py:6200\u001b[0m, in \u001b[0;36mIndex._get_indexer_strict\u001b[0;34m(self, key, axis_name)\u001b[0m\n\u001b[1;32m   6197\u001b[0m \u001b[38;5;28;01melse\u001b[39;00m:\n\u001b[1;32m   6198\u001b[0m     keyarr, indexer, new_indexer \u001b[38;5;241m=\u001b[39m \u001b[38;5;28mself\u001b[39m\u001b[38;5;241m.\u001b[39m_reindex_non_unique(keyarr)\n\u001b[0;32m-> 6200\u001b[0m \u001b[38;5;28mself\u001b[39m\u001b[38;5;241m.\u001b[39m_raise_if_missing(keyarr, indexer, axis_name)\n\u001b[1;32m   6202\u001b[0m keyarr \u001b[38;5;241m=\u001b[39m \u001b[38;5;28mself\u001b[39m\u001b[38;5;241m.\u001b[39mtake(indexer)\n\u001b[1;32m   6203\u001b[0m \u001b[38;5;28;01mif\u001b[39;00m \u001b[38;5;28misinstance\u001b[39m(key, Index):\n\u001b[1;32m   6204\u001b[0m     \u001b[38;5;66;03m# GH 42790 - Preserve name from an Index\u001b[39;00m\n",
      "File \u001b[0;32m~/anaconda3/lib/python3.12/site-packages/pandas/core/indexes/base.py:6249\u001b[0m, in \u001b[0;36mIndex._raise_if_missing\u001b[0;34m(self, key, indexer, axis_name)\u001b[0m\n\u001b[1;32m   6247\u001b[0m \u001b[38;5;28;01mif\u001b[39;00m nmissing:\n\u001b[1;32m   6248\u001b[0m     \u001b[38;5;28;01mif\u001b[39;00m nmissing \u001b[38;5;241m==\u001b[39m \u001b[38;5;28mlen\u001b[39m(indexer):\n\u001b[0;32m-> 6249\u001b[0m         \u001b[38;5;28;01mraise\u001b[39;00m \u001b[38;5;167;01mKeyError\u001b[39;00m(\u001b[38;5;124mf\u001b[39m\u001b[38;5;124m\"\u001b[39m\u001b[38;5;124mNone of [\u001b[39m\u001b[38;5;132;01m{\u001b[39;00mkey\u001b[38;5;132;01m}\u001b[39;00m\u001b[38;5;124m] are in the [\u001b[39m\u001b[38;5;132;01m{\u001b[39;00maxis_name\u001b[38;5;132;01m}\u001b[39;00m\u001b[38;5;124m]\u001b[39m\u001b[38;5;124m\"\u001b[39m)\n\u001b[1;32m   6251\u001b[0m     not_found \u001b[38;5;241m=\u001b[39m \u001b[38;5;28mlist\u001b[39m(ensure_index(key)[missing_mask\u001b[38;5;241m.\u001b[39mnonzero()[\u001b[38;5;241m0\u001b[39m]]\u001b[38;5;241m.\u001b[39munique())\n\u001b[1;32m   6252\u001b[0m     \u001b[38;5;28;01mraise\u001b[39;00m \u001b[38;5;167;01mKeyError\u001b[39;00m(\u001b[38;5;124mf\u001b[39m\u001b[38;5;124m\"\u001b[39m\u001b[38;5;132;01m{\u001b[39;00mnot_found\u001b[38;5;132;01m}\u001b[39;00m\u001b[38;5;124m not in index\u001b[39m\u001b[38;5;124m\"\u001b[39m)\n",
      "\u001b[0;31mKeyError\u001b[0m: \"None of [Index(['System', 'Domain', 'Task', 'Parameters', 'Training compute (FLOP)',\\n       'Training dataset size (datapoints)', 'Training time (hours)',\\n       'Training hardware', 'Hardware quantity', 'Training power (Watts)',\\n       'Training energy (kWh)', 'Carbon Emissions from training (lb)'],\\n      dtype='object')] are in the [index]\""
     ]
    }
   ],
   "source": [
    "#good columns for statistical analysis in models\n",
    "\n",
    "models_cols = [\n",
    "    'System',\n",
    "    'Domain',\n",
    "    'Task',\n",
    "    'Parameters',\n",
    "    'Training compute (FLOP)',\n",
    "    'Training dataset size (datapoints)',\n",
    "    'Training time (hours)',\n",
    "    'Training hardware',\n",
    "    'Hardware quantity',\n",
    "    'Training power (Watts)',\n",
    "    'Training energy (kWh)',\n",
    "    'Carbon Emissions from training (lb)'\n",
    "]\n",
    "\n",
    "models_good_df = models_df[models_cols]\n",
    "models_good_df.to_csv('models_clean_analysis.csv', index=False)"
   ]
  }
 ],
 "metadata": {
  "kernelspec": {
   "display_name": "Python 3 (ipykernel)",
   "language": "python",
   "name": "python3"
  },
  "language_info": {
   "codemirror_mode": {
    "name": "ipython",
    "version": 3
   },
   "file_extension": ".py",
   "mimetype": "text/x-python",
   "name": "python",
   "nbconvert_exporter": "python",
   "pygments_lexer": "ipython3",
   "version": "3.12.4"
  }
 },
 "nbformat": 4,
 "nbformat_minor": 5
}
