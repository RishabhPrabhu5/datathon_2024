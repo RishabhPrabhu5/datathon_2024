{
 "cells": [
  {
   "cell_type": "code",
   "execution_count": 1,
   "id": "51b5b298-0e24-43d0-bfdf-641ecfde6d99",
   "metadata": {},
   "outputs": [],
   "source": [
    "import pandas as pd\n",
    "import numpy as np\n",
    "import matplotlib.pyplot as plt\n"
   ]
  },
  {
   "cell_type": "code",
   "execution_count": 361,
   "id": "80f72bcf-e722-4781-aa76-c44ad9d85fec",
   "metadata": {},
   "outputs": [
    {
     "name": "stdout",
     "output_type": "stream",
     "text": [
      "<class 'pandas.core.frame.DataFrame'>\n",
      "RangeIndex: 223 entries, 0 to 222\n",
      "Data columns (total 29 columns):\n",
      " #   Column                                           Non-Null Count  Dtype         \n",
      "---  ------                                           --------------  -----         \n",
      " 0   System                                           223 non-null    string        \n",
      " 1   Domain                                           223 non-null    object        \n",
      " 2   Task                                             223 non-null    object        \n",
      " 3   Model accessibility                              184 non-null    category      \n",
      " 4   Link                                             220 non-null    object        \n",
      " 5   Citations                                        223 non-null    uint32        \n",
      " 6   Reference                                        185 non-null    object        \n",
      " 7   Publication date                                 223 non-null    datetime64[ns]\n",
      " 8   Organization                                     223 non-null    category      \n",
      " 9   Parameters                                       159 non-null    float64       \n",
      " 10  Parameters notes                                 137 non-null    object        \n",
      " 11  Training compute (FLOP)                          129 non-null    float64       \n",
      " 12  Training compute notes                           144 non-null    object        \n",
      " 13  Training dataset                                 114 non-null    object        \n",
      " 14  Training dataset notes                           119 non-null    object        \n",
      " 15  Training dataset size (datapoints)               120 non-null    float64       \n",
      " 16  Dataset size notes                               116 non-null    object        \n",
      " 17  Training time (hours)                            48 non-null     float64       \n",
      " 18  Training hardware                                95 non-null     object        \n",
      " 19  Abstract                                         180 non-null    object        \n",
      " 20  Country (from Organization)                      223 non-null    object        \n",
      " 21  Hardware quantity                                55 non-null     float64       \n",
      " 22  Training code accessibility                      154 non-null    object        \n",
      " 23  Dataset accessibility                            35 non-null     object        \n",
      " 24  Accessibility notes                              112 non-null    object        \n",
      " 25  Organization categorization (from Organization)  223 non-null    object        \n",
      " 26  Training power (Watts)                           130 non-null    float64       \n",
      " 27  Training energy (kWh)                            34 non-null     float64       \n",
      " 28  Carbon Emissions from training (lb)              34 non-null     float64       \n",
      "dtypes: category(2), datetime64[ns](1), float64(8), object(16), string(1), uint32(1)\n",
      "memory usage: 49.8+ KB\n"
     ]
    }
   ],
   "source": [
    "def clean_models(df):\n",
    "    df = df.drop(['Base model', 'Finetune compute (FLOP)', 'Finetune compute notes'], axis=1)\n",
    "    df['Domain'] = df['Domain'].astype(\"string\").str.split(\",\").map(lambda x: sorted(x)).map(lambda x: ','.join(x))\n",
    "    df['System'] = df['System'].astype(\"string\")\n",
    "    df['Task'] = df['Task'].astype(\"string\").str.split(',').map(lambda x: sorted(x)).map(lambda x: ','.join(x))\n",
    "    df['Model accessibility'] = df['Model accessibility'].astype('category')\n",
    "    df['Citations'] = df['Citations'].fillna(0).astype('uint32')\n",
    "    df['Publication date'] = pd.to_datetime(df['Publication date'])\n",
    "    df['Organization'] = df['Organization'].astype('category')\n",
    "    return df\n",
    "\n",
    "def clean_bloom(df):\n",
    "    df = df.drop(['cloud_provider', 'cloud_region'], axis=1)\n",
    "    df = df[~df.drop(['timestamp', 'project_name', 'run_id'], axis=1).isna().any(axis=1)]\n",
    "    df.loc[312, 'timestamp'] = '2022-05-18T12:04:08'\n",
    "    df = df.drop([767])\n",
    "    df['timestamp'] = pd.to_datetime(df['timestamp'])\n",
    "    return df\n",
    "\n",
    "models_df = pd.read_csv(\"large_scale_ai_models_added_cols.csv\").drop(['Authors'], axis=1)\n",
    "bloom_df = pd.read_csv(\"bloom_emissions.csv\")\n",
    "models_df = clean_models(models_df)\n",
    "bloom_df = clean_bloom(bloom_df)\n",
    "models_df.info()"
   ]
  },
  {
   "cell_type": "code",
   "execution_count": 385,
   "id": "5903b7a2-f73a-47ef-baa1-c562fffb2cb0",
   "metadata": {},
   "outputs": [
    {
     "data": {
      "text/plain": [
       "Organization categorization (from Organization)\n",
       "{Industry}                               188\n",
       "{Industry,Academia}                        9\n",
       "{Industry,Industry}                        6\n",
       "{Academia}                                 5\n",
       "{Government}                               3\n",
       "{Industry,Industry,Industry}               3\n",
       "{Academia,Industry}                        3\n",
       "{collective,Academia, Research}            2\n",
       "{Academia,Industry,Academia,Academia}      1\n",
       "{collective, Industry,Research}            1\n",
       "{Academia,Academia,Academia}               1\n",
       "{Academia,Academia}                        1\n",
       "Name: count, dtype: int64"
      ]
     },
     "execution_count": 385,
     "metadata": {},
     "output_type": "execute_result"
    }
   ],
   "source": [
    "models_df['Organization categorization (from Organization)']\\\n",
    "         .astype('string')\\\n",
    "         .str.strip()\\\n",
    "         .str.split()\\\n",
    "         .apply(lambda x: set(x)).value_counts()"
   ]
  },
  {
   "cell_type": "code",
   "execution_count": null,
   "id": "0ff8fcf9-46da-4a24-acff-43d215e3c81c",
   "metadata": {},
   "outputs": [],
   "source": [
    "models"
   ]
  }
 ],
 "metadata": {
  "kernelspec": {
   "display_name": "Python 3 (ipykernel)",
   "language": "python",
   "name": "python3"
  },
  "language_info": {
   "codemirror_mode": {
    "name": "ipython",
    "version": 3
   },
   "file_extension": ".py",
   "mimetype": "text/x-python",
   "name": "python",
   "nbconvert_exporter": "python",
   "pygments_lexer": "ipython3",
   "version": "3.12.4"
  }
 },
 "nbformat": 4,
 "nbformat_minor": 5
}
